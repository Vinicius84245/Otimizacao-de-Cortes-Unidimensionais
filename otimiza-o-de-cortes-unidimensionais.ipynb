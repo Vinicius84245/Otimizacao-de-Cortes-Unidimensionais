{
 "cells": [
  {
   "cell_type": "markdown",
   "metadata": {},
   "source": [
    "<h1> Otimização de Cortes Unidimensionais </h1>\n",
    "<p>\n",
    "    Por Vinícius Lopes Coutinho </p>\n"
   ]
  },
  {
   "cell_type": "markdown",
   "metadata": {},
   "source": [
    "O código a seguir tem por intuito  explorar a possibilidade de otimização de cortes unidimensionais através da linguagem de programação Python.\n",
    "\n",
    "Identificaremos quais padrões de corte são possíveis e qual a combinação ideal para minimizar os desperdícios.\n",
    "\n",
    "Entende-se como objetos unidimensionais barras, tubos, perfilados, tábuas, tiras de tecido, fitas de papel ou plástico, cabos elétricos, hastes ou tubulações plásticas.\n",
    "\n",
    "A otimização de cortes é essencial para minimizar desperdícios e maximizar a eficiência."
   ]
  },
  {
   "cell_type": "markdown",
   "metadata": {},
   "source": [
    "<center><img src="https://miro.medium.com/v2/resize:fit:640/format:webp/1*AldzuAjVSwvGtF4q-C97Vg.png">"
   ]
  },
  {
   "cell_type": "markdown",
   "metadata": {
    "execution": {
     "iopub.execute_input": "2024-01-29T18:30:22.267712Z",
     "iopub.status.busy": "2024-01-29T18:30:22.267295Z",
     "iopub.status.idle": "2024-01-29T18:30:22.273687Z",
     "shell.execute_reply": "2024-01-29T18:30:22.272283Z",
     "shell.execute_reply.started": "2024-01-29T18:30:22.267680Z"
    }
   },
   "source": [
    "<h2 style=\"font-size: 16px;\" > Bibliotecas Necessárias"
   ]
  },
  {
   "cell_type": "code",
   "execution_count": 10,
   "metadata": {
    "tags": []
   },
   "outputs": [],
   "source": [
    "import pandas as pd\n",
    "import pulp\n",
    "import matplotlib.pyplot as plt"
   ]
  },
  {
   "cell_type": "markdown",
   "metadata": {},
   "source": [
    "<h2 style=\"font-size: 16px;\" > Dados Utilizados"
   ]
  },
  {
   "cell_type": "code",
   "execution_count": 11,
   "metadata": {
    "tags": []
   },
   "outputs": [],
   "source": [
    "# Dados de entrada\n",
    "pecas = [1145, 1580, 1450,1295] # Tamanho das peças a serem cortadas\n",
    "tamanho_barra = 6000 # Tamanho padrão da barra\n",
    "demanda = [96, 96, 96,96]  # Qtd necessaria de cada peça\n",
    "tempo_limite = 0 # Defini um tempo limite(s), se igual a zero a busca é feita ate encontrar uma solucao otima"
   ]
  },
  {
   "cell_type": "markdown",
   "metadata": {},
   "source": [
    "<h2 style=\"font-size: 16px;\" > Funções "
   ]
  },
  {
   "cell_type": "code",
   "execution_count": 12,
   "metadata": {
    "tags": []
   },
   "outputs": [],
   "source": [
    "def gerar_padroes_corte(pecas, tamanho_barra):\n",
    "    padroes = []  # Inicializa uma lista vazia para armazenar os padrões de corte\n",
    "    padrao_atual = []  # Inicializa uma lista vazia para representar o padrão atual\n",
    "\n",
    "    # Função recursiva para gerar os padrões de corte\n",
    "    def gerar_recursivo(index, multiplicador):\n",
    "        if index == len(pecas):  # Se todas as peças foram consideradas\n",
    "            padroes.append(padrao_atual[:])  # Adiciona o padrão atual à lista de padrões\n",
    "            return\n",
    "        for i in range(pecas[index] * multiplicador + 1):  # Loop para cada possível quantidade da peça atual\n",
    "            if sum(padrao_atual) + (i) * pecas[index] <= tamanho_barra:  # Verifica se o padrão atual é válido\n",
    "                for j in range(i):  # Adiciona a quantidade correspondente da peça atual ao padrão atual\n",
    "                    padrao_atual.append(pecas[index])\n",
    "                gerar_recursivo(index + 1, multiplicador)  # Chama recursivamente para a próxima peça\n",
    "                for j in range(i):  # Remove as peças adicionadas para tentar outras combinações\n",
    "                    padrao_atual.pop()\n",
    "\n",
    "    gerar_recursivo(0, 1)  # Chama a função recursiva com índice inicial 0 e multiplicador 1\n",
    "    return padroes  # Retorna a lista de padrões de corte gerados\n",
    "\n",
    "def criar_dataframe(pecas, tamanho_barra):\n",
    "    padroes = gerar_padroes_corte(pecas, tamanho_barra)  # Obtém os padrões de corte\n",
    "    df = pd.DataFrame(columns=pecas)  # Cria um DataFrame vazio com colunas nomeadas pelas peças\n",
    "\n",
    "    for padrao in padroes:  # Para cada padrão de corte gerado\n",
    "        df.loc[len(df)] = [padrao.count(comprimento) for comprimento in pecas]  # Conta as ocorrências de cada peça no padrão e adiciona ao DataFrame\n",
    "\n",
    "    # Adiciona a coluna de desperdício\n",
    "    desperdicio = []  # Inicializa uma lista vazia para armazenar os valores de desperdício\n",
    "    for idx, row in df.iterrows():  # Itera sobre cada linha do DataFrame\n",
    "        soma_valores = sum(row[comprimento] * comprimento for comprimento in pecas)  # Calcula o total das peças em cada padrão\n",
    "        desperdicio.append(soma_valores - tamanho_barra)  # Calcula o desperdício e adiciona à lista\n",
    "\n",
    "    df['desperdício'] = desperdicio  # Adiciona a coluna de desperdício ao DataFrame\n",
    "    df['desperdício'] = df['desperdício'] *-1  # Transforma os valores de desperdício em positivos (por questões de interpretação)\n",
    "    return df  # Retorna o DataFrame final, com padrões de corte e informações de desperdício"
   ]
  },
  {
   "cell_type": "markdown",
   "metadata": {},
   "source": [
    "<h2 style=\"font-size: 16px;\" > Iniciando df com todas possibilidades de corte"
   ]
  },
  {
   "cell_type": "code",
   "execution_count": 13,
   "metadata": {
    "tags": []
   },
   "outputs": [
    {
     "data": {
      "text/html": [
       "<div>\n",
       "<style scoped>\n",
       "    .dataframe tbody tr th:only-of-type {\n",
       "        vertical-align: middle;\n",
       "    }\n",
       "\n",
       "    .dataframe tbody tr th {\n",
       "        vertical-align: top;\n",
       "    }\n",
       "\n",
       "    .dataframe thead th {\n",
       "        text-align: right;\n",
       "    }\n",
       "</style>\n",
       "<table border=\"1\" class=\"dataframe\">\n",
       "  <thead>\n",
       "    <tr style=\"text-align: right;\">\n",
       "      <th></th>\n",
       "      <th>1145</th>\n",
       "      <th>1580</th>\n",
       "      <th>1450</th>\n",
       "      <th>1295</th>\n",
       "      <th>desperdício</th>\n",
       "      <th>Padrão</th>\n",
       "    </tr>\n",
       "  </thead>\n",
       "  <tbody>\n",
       "    <tr>\n",
       "      <th>0</th>\n",
       "      <td>0</td>\n",
       "      <td>1</td>\n",
       "      <td>3</td>\n",
       "      <td>0</td>\n",
       "      <td>70</td>\n",
       "      <td>0</td>\n",
       "    </tr>\n",
       "    <tr>\n",
       "      <th>1</th>\n",
       "      <td>0</td>\n",
       "      <td>2</td>\n",
       "      <td>1</td>\n",
       "      <td>1</td>\n",
       "      <td>95</td>\n",
       "      <td>1</td>\n",
       "    </tr>\n",
       "    <tr>\n",
       "      <th>2</th>\n",
       "      <td>1</td>\n",
       "      <td>3</td>\n",
       "      <td>0</td>\n",
       "      <td>0</td>\n",
       "      <td>115</td>\n",
       "      <td>2</td>\n",
       "    </tr>\n",
       "    <tr>\n",
       "      <th>3</th>\n",
       "      <td>4</td>\n",
       "      <td>0</td>\n",
       "      <td>0</td>\n",
       "      <td>1</td>\n",
       "      <td>125</td>\n",
       "      <td>3</td>\n",
       "    </tr>\n",
       "    <tr>\n",
       "      <th>4</th>\n",
       "      <td>0</td>\n",
       "      <td>0</td>\n",
       "      <td>4</td>\n",
       "      <td>0</td>\n",
       "      <td>200</td>\n",
       "      <td>4</td>\n",
       "    </tr>\n",
       "    <tr>\n",
       "      <th>...</th>\n",
       "      <td>...</td>\n",
       "      <td>...</td>\n",
       "      <td>...</td>\n",
       "      <td>...</td>\n",
       "      <td>...</td>\n",
       "      <td>...</td>\n",
       "    </tr>\n",
       "    <tr>\n",
       "      <th>63</th>\n",
       "      <td>0</td>\n",
       "      <td>1</td>\n",
       "      <td>0</td>\n",
       "      <td>0</td>\n",
       "      <td>4420</td>\n",
       "      <td>63</td>\n",
       "    </tr>\n",
       "    <tr>\n",
       "      <th>64</th>\n",
       "      <td>0</td>\n",
       "      <td>0</td>\n",
       "      <td>1</td>\n",
       "      <td>0</td>\n",
       "      <td>4550</td>\n",
       "      <td>64</td>\n",
       "    </tr>\n",
       "    <tr>\n",
       "      <th>65</th>\n",
       "      <td>0</td>\n",
       "      <td>0</td>\n",
       "      <td>0</td>\n",
       "      <td>1</td>\n",
       "      <td>4705</td>\n",
       "      <td>65</td>\n",
       "    </tr>\n",
       "    <tr>\n",
       "      <th>66</th>\n",
       "      <td>1</td>\n",
       "      <td>0</td>\n",
       "      <td>0</td>\n",
       "      <td>0</td>\n",
       "      <td>4855</td>\n",
       "      <td>66</td>\n",
       "    </tr>\n",
       "    <tr>\n",
       "      <th>67</th>\n",
       "      <td>0</td>\n",
       "      <td>0</td>\n",
       "      <td>0</td>\n",
       "      <td>0</td>\n",
       "      <td>6000</td>\n",
       "      <td>67</td>\n",
       "    </tr>\n",
       "  </tbody>\n",
       "</table>\n",
       "<p>68 rows × 6 columns</p>\n",
       "</div>"
      ],
      "text/plain": [
       "    1145  1580  1450  1295  desperdício  Padrão\n",
       "0      0     1     3     0           70       0\n",
       "1      0     2     1     1           95       1\n",
       "2      1     3     0     0          115       2\n",
       "3      4     0     0     1          125       3\n",
       "4      0     0     4     0          200       4\n",
       "..   ...   ...   ...   ...          ...     ...\n",
       "63     0     1     0     0         4420      63\n",
       "64     0     0     1     0         4550      64\n",
       "65     0     0     0     1         4705      65\n",
       "66     1     0     0     0         4855      66\n",
       "67     0     0     0     0         6000      67\n",
       "\n",
       "[68 rows x 6 columns]"
      ]
     },
     "execution_count": 13,
     "metadata": {},
     "output_type": "execute_result"
    }
   ],
   "source": [
    "# Chama a função criar_dataframe para gerar o DataFrame com os padrões de corte\n",
    "df_padroes_corte = criar_dataframe(pecas, tamanho_barra)\n",
    "\n",
    "# Ordena o DataFrame pelos valores da coluna 'desperdício' em ordem crescente (do menor para o maior desperdício)\n",
    "df_padroes_corte.sort_values(by='desperdício', inplace=True, ascending=True)\n",
    "\n",
    "# Reseta os índices do DataFrame após a ordenação, para garantir uma numeração sequencial\n",
    "df_padroes_corte.reset_index(drop=True, inplace=True)\n",
    "\n",
    "# Adiciona uma nova coluna 'Padrão' ao DataFrame, que contém o índice de cada padrão de corte\n",
    "df_padroes_corte['Padrão'] = df_padroes_corte.index\n",
    "\n",
    "# Exibe o DataFrame com os padrões de corte possíveis, agora ordenados e com uma nova coluna 'Padrão'\n",
    "df_padroes_corte"
   ]
  },
  {
   "cell_type": "markdown",
   "metadata": {},
   "source": [
    "<h2 style=\"font-size: 16px;\" > Iniciando problema de minimização"
   ]
  },
  {
   "cell_type": "markdown",
   "metadata": {},
   "source": [
    "Para mais detalhes sobre esse trecho clique <a href='https://medium.com/@vinicius_couti/otimiza%C3%A7%C3%A3o-de-cortes-unidimensionais-b3b7561013c8'>aqui. </a>"
   ]
  },
  {
   "cell_type": "code",
   "execution_count": 14,
   "metadata": {
    "tags": []
   },
   "outputs": [
    {
     "name": "stdout",
     "output_type": "stream",
     "text": [
      "Padrões de corte escolhidos:\n",
      "Padrão: 0 Repetições: 8.0\n",
      "Padrão: 1 Repetições: 44.0\n",
      "Padrão: 3 Repetições: 24.0\n",
      "Padrão: 14 Repetições: 14.0\n",
      "Desperdício total: 14880.0\n"
     ]
    },
    {
     "name": "stderr",
     "output_type": "stream",
     "text": [
      "D:\\Anaconda\\lib\\site-packages\\pulp\\pulp.py:1316: UserWarning: Spaces are not permitted in the name. Converted to '_'\n",
      "  warnings.warn(\"Spaces are not permitted in the name. Converted to '_'\")\n"
     ]
    }
   ],
   "source": [
    "# Criando o problema de minimização\n",
    "problema = pulp.LpProblem(\"Minimização de desperdício\", pulp.LpMinimize)\n",
    "\n",
    "# Variáveis de decisão\n",
    "padroes = pulp.LpVariable.dicts(\"Padrão\", df_padroes_corte['Padrão'], lowBound=0, cat='Integer')\n",
    "\n",
    "# Função objetivo: minimizar o desperdício total\n",
    "problema += pulp.lpSum([padroes[p] * desperdicio for p, desperdicio in zip(df_padroes_corte['Padrão'], df_padroes_corte['desperdício'])])\n",
    "\n",
    "# Restrições: atender a demanda sem excedê-la\n",
    "for dimensao, demanda_dimensao in zip(df_padroes_corte.values[:, :-2].T, demanda):\n",
    "    problema += pulp.lpSum([padroes[p] * quantidade for p, quantidade in zip(df_padroes_corte['Padrão'], dimensao)]) == demanda_dimensao\n",
    "\n",
    "# Verifica se há um limite de tempo definido para a solução do problema\n",
    "if tempo_limite > 0:\n",
    "    problema.solve(pulp.PULP_CBC_CMD(timeLimit=tempo_limite))\n",
    "else:\n",
    "    problema.solve()\n",
    "\n",
    "# Listas para armazenar os padrões escolhidos e suas repetições\n",
    "padroes_escolhidos = []\n",
    "repeticoes = []\n",
    "\n",
    "# Extraindo resultados e imprimindo padrões de corte escolhidos\n",
    "print(\"Padrões de corte escolhidos:\")\n",
    "for p in df_padroes_corte['Padrão']:\n",
    "    if pulp.value(padroes[p]) > 0:  # Se o valor da variável de decisão para o padrão atual é maior que zero\n",
    "        padroes_escolhidos.append(p)  # Adiciona o padrão à lista de padrões escolhidos\n",
    "        repeticoes.append(pulp.value(padroes[p]))  # Adiciona o número de repetições do padrão à lista de repetições\n",
    "        print(f\"Padrão: {p} Repetições: {pulp.value(padroes[p])}\")\n",
    "\n",
    "# Imprime o desperdício total\n",
    "print(\"Desperdício total:\", pulp.value(problema.objective))\n"
   ]
  },
  {
   "cell_type": "markdown",
   "metadata": {
    "execution": {
     "iopub.execute_input": "2024-01-29T19:48:42.307116Z",
     "iopub.status.busy": "2024-01-29T19:48:42.306631Z",
     "iopub.status.idle": "2024-01-29T19:48:42.315581Z",
     "shell.execute_reply": "2024-01-29T19:48:42.313686Z",
     "shell.execute_reply.started": "2024-01-29T19:48:42.307078Z"
    }
   },
   "source": [
    "<h2 style=\"font-size: 16px;\" > Formatando Resultado"
   ]
  },
  {
   "cell_type": "code",
   "execution_count": 17,
   "metadata": {},
   "outputs": [],
   "source": [
    "# Cria um DataFrame com duas colunas: 'Padrão' contendo os padrões de corte escolhidos\n",
    "#'Repetições' com a quantidade de vezes que cada padrão é repetido.\n",
    "df_resultado = pd.DataFrame({\"Padrão\": padroes_escolhidos, \"Repetições\": repeticoes})"
   ]
  },
  {
   "cell_type": "code",
   "execution_count": 17,
   "metadata": {},
   "outputs": [],
   "source": [
    "# Define o número de colunas no DataFrame df_padroes_corte \n",
    "#excluindo as duas últimas colunas ('desperdício' e 'Padrão').\n",
    "colunas = df_padroes_corte.iloc[:, :-2]\n",
    "colunas = len(colunas.columns.tolist())"
   ]
  },
  {
   "cell_type": "code",
   "execution_count": 19,
   "metadata": {},
   "outputs": [
    {
     "data": {
      "image/png": "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\n",
      "text/plain": [
       "<Figure size 640x480 with 1 Axes>"
      ]
     },
     "metadata": {},
     "output_type": "display_data"
    },
    {
     "name": "stdout",
     "output_type": "stream",
     "text": [
      "Serão utilizadas: 90 barras\n"
     ]
    }
   ],
   "source": [
    "# Isso cria um novo DataFrame chamado df_plano_de_corte com os padrões de corte selecionados e suas repetições.\n",
    "df_plano_de_corte = pd.merge(df_padroes_corte,df_resultado, on='Padrão', how='right')\n",
    "# preparar os DataFrames para calcular o plano de corte e suas quantidades.\n",
    "df_qtde = df_plano_de_corte\n",
    "df_plano_de_corte = df_plano_de_corte.iloc[:, :colunas]\n",
    "df_qtde = df_qtde.iloc[:, :colunas]\n",
    "\n",
    "# Adiciona uma nova coluna chamada em df_qtde com base nos índices das linhas.\n",
    "df_qtde['Plano de Corte'] = \"Plano de Corte \" + (df_qtde.index).map(str)\n",
    "\n",
    "\n",
    "# Iterar sobre as colunas e multiplicar os valores das linhas pelos valores dos títulos das colunas\n",
    "for coluna in df_plano_de_corte.columns:\n",
    "    # Multiplica os valores das linhas de cada coluna em df_plano_de_corte pelo valor do título da coluna\n",
    "    df_plano_de_corte[coluna] = df_plano_de_corte[coluna] * int(coluna)\n",
    "\n",
    "# Adiciona uma nova coluna chamada 'Plano de Corte' em df_plano_de_corte com base nos índices das linhas.\n",
    "df_plano_de_corte['Plano de Corte'] = \"Plano de Corte \" + (df_plano_de_corte.index).map(str)\n",
    "\n",
    "\n",
    "# Calcula o total para cada plano de corte\n",
    "df_total = df.drop(columns='Plano de Corte').sum(axis=1)\n",
    "\n",
    "\n",
    "# Calcula as porcentagens\n",
    "df_rel = df.drop(columns='Plano de Corte').div(df_total, axis=0) * 100\n",
    "\n",
    "\n",
    "# Plota um gráfico de barras horizontais empilhadas com os planos de corte.\n",
    "ax = df.plot(\n",
    "    x='Plano de Corte',\n",
    "    kind='barh',\n",
    "    stacked=True,    \n",
    "    mark_right=True\n",
    ")\n",
    "\n",
    "# Adiciona um título e uma legenda ao gráfico.\n",
    "plt.title('Planos de Corte e Repetições')\n",
    "plt.legend(loc='upper left', bbox_to_anchor=(1, 1))\n",
    "\n",
    "\n",
    "\n",
    "# Adiciona o número de repetições de cada padrão de corte nas barras do gráfico.\n",
    "for i, quantidade in enumerate(df_resultado['Repetições']):\n",
    "    ax.text(quantidade, i, str(quantidade), va='bottom', ha='left', color='black')\n",
    "\n",
    "\n",
    "# Exibe o gráfico gerado.\n",
    "plt.show()\n",
    "\n",
    "# Calcula o total de barras necessárias somando as repetições de todos os padrões de corte.\n",
    "total_barras = int(df_resultado['Repetições'].sum())\n",
    "\n",
    "# Imprime a mensagem indicando o total de barras necessárias.\n",
    "print(f\"Serão utilizadas: {total_barras} barras\")"
   ]
  },
  {
   "cell_type": "markdown",
   "metadata": {},
   "source": [
    "<h2 style=\"font-size: 16px;\" > Exibindo planos de cortes "
   ]
  },
  {
   "cell_type": "code",
   "execution_count": 20,
   "metadata": {
    "tags": []
   },
   "outputs": [
    {
     "data": {
      "text/html": [
       "<div>\n",
       "<style scoped>\n",
       "    .dataframe tbody tr th:only-of-type {\n",
       "        vertical-align: middle;\n",
       "    }\n",
       "\n",
       "    .dataframe tbody tr th {\n",
       "        vertical-align: top;\n",
       "    }\n",
       "\n",
       "    .dataframe thead th {\n",
       "        text-align: right;\n",
       "    }\n",
       "</style>\n",
       "<table border=\"1\" class=\"dataframe\">\n",
       "  <thead>\n",
       "    <tr style=\"text-align: right;\">\n",
       "      <th></th>\n",
       "      <th>Plano de Corte</th>\n",
       "      <th>1145</th>\n",
       "      <th>1580</th>\n",
       "      <th>1450</th>\n",
       "      <th>1295</th>\n",
       "    </tr>\n",
       "  </thead>\n",
       "  <tbody>\n",
       "    <tr>\n",
       "      <th>0</th>\n",
       "      <td>Plano de Corte 0</td>\n",
       "      <td>0</td>\n",
       "      <td>1</td>\n",
       "      <td>3</td>\n",
       "      <td>0</td>\n",
       "    </tr>\n",
       "    <tr>\n",
       "      <th>1</th>\n",
       "      <td>Plano de Corte 1</td>\n",
       "      <td>0</td>\n",
       "      <td>2</td>\n",
       "      <td>1</td>\n",
       "      <td>1</td>\n",
       "    </tr>\n",
       "    <tr>\n",
       "      <th>2</th>\n",
       "      <td>Plano de Corte 2</td>\n",
       "      <td>4</td>\n",
       "      <td>0</td>\n",
       "      <td>0</td>\n",
       "      <td>1</td>\n",
       "    </tr>\n",
       "    <tr>\n",
       "      <th>3</th>\n",
       "      <td>Plano de Corte 3</td>\n",
       "      <td>0</td>\n",
       "      <td>0</td>\n",
       "      <td>2</td>\n",
       "      <td>2</td>\n",
       "    </tr>\n",
       "  </tbody>\n",
       "</table>\n",
       "</div>"
      ],
      "text/plain": [
       "     Plano de Corte  1145  1580  1450  1295\n",
       "0  Plano de Corte 0     0     1     3     0\n",
       "1  Plano de Corte 1     0     2     1     1\n",
       "2  Plano de Corte 2     4     0     0     1\n",
       "3  Plano de Corte 3     0     0     2     2"
      ]
     },
     "execution_count": 20,
     "metadata": {},
     "output_type": "execute_result"
    }
   ],
   "source": [
    "# Obtendo o nome da última coluna\n",
    "ultima_coluna = df_qtde.columns[-1]\n",
    "# Movendo a última coluna para a primeira posição\n",
    "df = df_qtde[[ultima_coluna] + [coluna for coluna in df_qtde.columns if coluna != ultima_coluna]]\n",
    "df"
   ]
  }
 ],
 "metadata": {
  "kaggle": {
   "accelerator": "none",
   "dataSources": [],
   "dockerImageVersionId": 30635,
   "isGpuEnabled": false,
   "isInternetEnabled": false,
   "language": "python",
   "sourceType": "notebook"
  },
  "kernelspec": {
   "display_name": "Python 3 (ipykernel)",
   "language": "python",
   "name": "python3"
  },
  "language_info": {
   "codemirror_mode": {
    "name": "ipython",
    "version": 3
   },
   "file_extension": ".py",
   "mimetype": "text/x-python",
   "name": "python",
   "nbconvert_exporter": "python",
   "pygments_lexer": "ipython3",
   "version": "3.10.9"
  }
 },
 "nbformat": 4,
 "nbformat_minor": 4
}
